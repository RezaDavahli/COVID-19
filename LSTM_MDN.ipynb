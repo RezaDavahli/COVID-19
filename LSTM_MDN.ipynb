{
 "cells": [
  {
   "cell_type": "code",
   "execution_count": 1,
   "metadata": {},
   "outputs": [],
   "source": [
    "import matplotlib.pyplot as plt\n",
    "import tensorflow as tf\n",
    "import numpy as np\n",
    "import pandas as pd\n",
    "import os\n",
    "from sklearn.preprocessing import MinMaxScaler\n",
    "from keras.models import Sequential\n",
    "from keras.layers import Dense\n",
    "from keras.layers import Dropout\n",
    "from keras.layers import LSTM\n",
    "from keras import backend as K\n",
    "from keras.models import Model\n",
    "from keras.layers import Input\n",
    "from numpy import array"
   ]
  },
  {
   "cell_type": "code",
   "execution_count": 2,
   "metadata": {},
   "outputs": [
    {
     "data": {
      "text/plain": [
       "True"
      ]
     },
     "execution_count": 2,
     "metadata": {},
     "output_type": "execute_result"
    }
   ],
   "source": [
    "tf.executing_eagerly()"
   ]
  },
  {
   "cell_type": "code",
   "execution_count": 3,
   "metadata": {},
   "outputs": [],
   "source": [
    "# Importing data \n",
    "dataset = pd.read_csv('cases_four_states.csv')"
   ]
  },
  {
   "cell_type": "code",
   "execution_count": 5,
   "metadata": {},
   "outputs": [
    {
     "name": "stdout",
     "output_type": "stream",
     "text": [
      "(16, 1)\n"
     ]
    }
   ],
   "source": [
    "#Defining test data\n",
    "test_set_f = np.array(dataset.iloc[-16:310, 1:2])\n",
    "print(test_set_f.shape)"
   ]
  },
  {
   "cell_type": "code",
   "execution_count": 6,
   "metadata": {},
   "outputs": [
    {
     "name": "stdout",
     "output_type": "stream",
     "text": [
      "1. ADF :  0.19670623960858968\n",
      "2. P-Value :  0.97207625070814\n",
      "3. Num Of Lags :  9\n",
      "4. Num Of Observations Used For ADF Regression and Critical Values Calculation : 300\n",
      "5. Critical Values :\n",
      "\t 1% :  -3.4523371197407404\n",
      "\t 5% :  -2.871222860740741\n",
      "\t 10% :  -2.571929211111111\n"
     ]
    }
   ],
   "source": [
    "#Testing for stationary and non-stationary \n",
    "from statsmodels.tsa.stattools import adfuller\n",
    "\n",
    "dftest = adfuller(dataset['CALIFORNIA'], autolag = 'AIC')\n",
    "\n",
    "print(\"1. ADF : \",dftest[0])\n",
    "print(\"2. P-Value : \", dftest[1])\n",
    "print(\"3. Num Of Lags : \", dftest[2])\n",
    "print(\"4. Num Of Observations Used For ADF Regression and Critical Values Calculation :\", dftest[3])\n",
    "print(\"5. Critical Values :\")\n",
    "for key, val in dftest[4].items():\n",
    "    print(\"\\t\",key, \": \", val)"
   ]
  },
  {
   "cell_type": "code",
   "execution_count": 7,
   "metadata": {},
   "outputs": [],
   "source": [
    "# making date as pandas date and setting as a index\n",
    "dataset['date'] = pd.to_datetime(dataset['date'])\n",
    "dataset.set_index('date', inplace=True)"
   ]
  },
  {
   "cell_type": "code",
   "execution_count": 8,
   "metadata": {},
   "outputs": [],
   "source": [
    "# Removing seasonality and trend\n",
    "# 1- seasonality\n",
    "import copy\n",
    "order = 2\n",
    "coef = np.polyfit(np.arange(len(dataset['CALIFORNIA'])),\n",
    "                  dataset['CALIFORNIA'].values.ravel(),\n",
    "                  order)\n",
    "poly_mdl = np.poly1d(coef)\n",
    "poly_mdl\n",
    "trend = pd.Series(data = poly_mdl(np.arange(len(dataset['CALIFORNIA']))),\n",
    "                  index = dataset.index)\n",
    "detrended = dataset['CALIFORNIA'] - trend\n",
    "seasonal = detrended.groupby(by = detrended.index.month).mean()\n",
    "col = 'CALIFORNIA'\n",
    "seasonal_component = copy.deepcopy(dataset)\n",
    "for i in seasonal.index:\n",
    "    seasonal_component.loc[seasonal_component.index.month == i, col] = seasonal.loc[i]\n",
    "deseasonal = dataset - seasonal_component\n",
    "\n",
    "# Removing trend\n",
    "coef = np.polyfit(np.arange(len(deseasonal)), deseasonal['CALIFORNIA'], order)\n",
    "poly_mdl = np.poly1d(coef)\n",
    "trend_comp = pd.DataFrame(data = poly_mdl(np.arange(len(dataset['CALIFORNIA']))),\n",
    "                          index = dataset.index,\n",
    "                          columns=['CALIFORNIA'])\n",
    "\n",
    "residual = dataset - seasonal_component - trend_comp"
   ]
  },
  {
   "cell_type": "code",
   "execution_count": 10,
   "metadata": {},
   "outputs": [
    {
     "name": "stdout",
     "output_type": "stream",
     "text": [
      "(16, 1)\n"
     ]
    }
   ],
   "source": [
    "# seasonality and trend of test data\n",
    "trend_comp_test = trend_comp.iloc[-16:310, 0:1]\n",
    "seasonal_component_test = seasonal_component.iloc[-16:310, 0:1]\n",
    "print(seasonal_component_test.shape)"
   ]
  },
  {
   "cell_type": "code",
   "execution_count": 11,
   "metadata": {},
   "outputs": [],
   "source": [
    "# selecting main feature\n",
    "training_data = residual.iloc[:, 0:1].values"
   ]
  },
  {
   "cell_type": "code",
   "execution_count": 12,
   "metadata": {},
   "outputs": [],
   "source": [
    "# Defining traning set and test set\n",
    "num_data = len(training_data)\n",
    "train_split = 0.95\n",
    "num_train = int(train_split * num_data)\n",
    "num_test = num_data - num_train\n",
    "training_set = training_data[0:num_train]\n",
    "test_set = training_data[num_train:]"
   ]
  },
  {
   "cell_type": "code",
   "execution_count": 13,
   "metadata": {},
   "outputs": [
    {
     "name": "stdout",
     "output_type": "stream",
     "text": [
      "(294, 1)\n",
      "(16, 1)\n"
     ]
    }
   ],
   "source": [
    "print(training_set.shape)\n",
    "print(test_set.shape)"
   ]
  },
  {
   "cell_type": "code",
   "execution_count": 14,
   "metadata": {},
   "outputs": [],
   "source": [
    "#scaling \n",
    "sc = MinMaxScaler(feature_range = (0,1))\n",
    "training_set_scaled = sc.fit_transform(training_set)"
   ]
  },
  {
   "cell_type": "code",
   "execution_count": 15,
   "metadata": {},
   "outputs": [],
   "source": [
    "#creating sequence length \n",
    "# For this problem, the model is trained based on data from last 14 days to predict the next day.\n",
    "x_train = []\n",
    "y_train = []\n",
    "for i in range(14, 294):\n",
    "    x_train.append(training_set_scaled[i-14:i, 0:1])\n",
    "    y_train.append(training_set_scaled[i, 0:1])\n",
    "x_train, y_train = np.array(x_train), np.array(y_train)\n",
    "x_train = np.reshape(x_train, (x_train.shape[0],x_train.shape[1],x_train.shape[2]))"
   ]
  },
  {
   "cell_type": "code",
   "execution_count": 16,
   "metadata": {},
   "outputs": [],
   "source": [
    "x_train = x_train.astype('float32')\n",
    "y_train = y_train.astype('float32')\n"
   ]
  },
  {
   "cell_type": "code",
   "execution_count": 17,
   "metadata": {},
   "outputs": [],
   "source": [
    "# Multivariate Guassian kernel\n",
    "def calc_pdf(y, mu, var):\n",
    "    value = tf.subtract(y, mu)**2\n",
    "    value = (1/tf.math.sqrt(2 * np.pi * var)) * tf.math.exp((-1/(2*var)) * value)\n",
    "    return value"
   ]
  },
  {
   "cell_type": "code",
   "execution_count": 18,
   "metadata": {},
   "outputs": [],
   "source": [
    "# Error function in terms of negative logarithm likelihood \n",
    "def mdn_loss(y_true, pi, mu, var):\n",
    "    out = calc_pdf(y_true, mu, var)\n",
    "    # multiply with each pi and sum it\n",
    "    out = tf.multiply(out, pi)\n",
    "    out = tf.reduce_sum(out, 1, keepdims=True)\n",
    "    out = -tf.math.log(out + 1e-10)\n",
    "    return tf.reduce_mean(out)"
   ]
  },
  {
   "cell_type": "code",
   "execution_count": 33,
   "metadata": {},
   "outputs": [
    {
     "name": "stdout",
     "output_type": "stream",
     "text": [
      "Model: \"functional_5\"\n",
      "__________________________________________________________________________________________________\n",
      "Layer (type)                    Output Shape         Param #     Connected to                     \n",
      "==================================================================================================\n",
      "input_2 (InputLayer)            [(None, 14, 1)]      0                                            \n",
      "__________________________________________________________________________________________________\n",
      "lstm_2 (LSTM)                   (None, 14, 10)       480         input_2[0][0]                    \n",
      "__________________________________________________________________________________________________\n",
      "lstm_3 (LSTM)                   (None, 10)           840         lstm_2[0][0]                     \n",
      "__________________________________________________________________________________________________\n",
      "dense_3 (Dense)                 (None, 10)           110         lstm_3[0][0]                     \n",
      "__________________________________________________________________________________________________\n",
      "pi_layer (Dense)                (None, 1)            11          dense_3[0][0]                    \n",
      "__________________________________________________________________________________________________\n",
      "dense_4 (Dense)                 (None, 1)            11          dense_3[0][0]                    \n",
      "__________________________________________________________________________________________________\n",
      "dense_5 (Dense)                 (None, 1)            11          dense_3[0][0]                    \n",
      "==================================================================================================\n",
      "Total params: 1,463\n",
      "Trainable params: 1,463\n",
      "Non-trainable params: 0\n",
      "__________________________________________________________________________________________________\n"
     ]
    }
   ],
   "source": [
    "# building RNN\n",
    "\n",
    "inputs1= Input(shape = (x_train.shape[1],x_train.shape[2]))\n",
    "lstm1 = LSTM(10, return_sequences=True, dtype='float32')(inputs1)\n",
    "lstm3 = LSTM(10, dtype='float32')(lstm1)\n",
    "layer = tf.keras.layers.Dense(10, dtype='float32')(lstm3)\n",
    "\n",
    "#  input feature\n",
    "l = 1\n",
    "# Number of gaussians to represent the multimodal distribution\n",
    "k = 1\n",
    "\n",
    "mu = tf.keras.layers.Dense((l * k), activation=None, dtype='float32')(layer)\n",
    "\n",
    "var = tf.keras.layers.Dense(k, activation=K.exp, dtype='float32')(layer)\n",
    "\n",
    "pi = tf.keras.layers.Dense(k, activation='softmax', name='pi_layer', dtype='float32')(layer)\n",
    "model = tf.keras.models.Model(inputs1, [pi, mu, var])\n",
    "\n",
    "outputs = [pi, mu, var]\n",
    "optimizer = tf.keras.optimizers.Adam()\n",
    "model.compile(optimizer=tf.keras.optimizers.Adam(), loss={'output':mdn_loss})\n",
    "\n",
    "model.summary()"
   ]
  },
  {
   "cell_type": "code",
   "execution_count": 34,
   "metadata": {},
   "outputs": [],
   "source": [
    "N = x_train.shape[0]\n",
    "dataset = tf.data.Dataset \\\n",
    "    .from_tensor_slices((x_train, y_train)) \\\n",
    "    .shuffle(N).batch(N)"
   ]
  },
  {
   "cell_type": "code",
   "execution_count": 35,
   "metadata": {},
   "outputs": [],
   "source": [
    "#borrowed from https://www.katnoria.com/mdn/\n",
    "def train_step(model, optimizer, train_x, train_y):\n",
    "    # GradientTape: Trace operations to compute gradients\n",
    "    with tf.GradientTape() as tape:\n",
    "        pi_, mu_, var_ = model(train_x, training=True)\n",
    "        # calculate loss\n",
    "        loss = mdn_loss(train_y, pi_, mu_, var_)\n",
    "    # compute and apply gradients\n",
    "    gradients = tape.gradient(loss, model.trainable_variables)\n",
    "    optimizer.apply_gradients(zip(gradients, model.trainable_variables))\n",
    "    return loss"
   ]
  },
  {
   "cell_type": "code",
   "execution_count": 36,
   "metadata": {},
   "outputs": [
    {
     "name": "stdout",
     "output_type": "stream",
     "text": [
      "Print every 200 epochs\n",
      "Epoch 0/1000: loss 1.0019546747207642\n",
      "Epoch 200/1000: loss -0.7508595585823059\n",
      "Epoch 400/1000: loss -0.8270707130432129\n",
      "Epoch 600/1000: loss -0.8409181833267212\n",
      "Epoch 800/1000: loss -0.8497732877731323\n"
     ]
    }
   ],
   "source": [
    "losses = []\n",
    "EPOCHS = 1000\n",
    "print_every = int(0.2 * EPOCHS)\n",
    "\n",
    "# Define model and optimizer\n",
    "model = tf.keras.models.Model(inputs1, [pi, mu, var])\n",
    "optimizer = tf.keras.optimizers.Adam()\n",
    "\n",
    "# Start training\n",
    "print('Print every {} epochs'.format(print_every))\n",
    "for i in range(EPOCHS):\n",
    "    for train_x, train_y in dataset:\n",
    "        loss = train_step(model, optimizer, train_x, train_y)\n",
    "        losses.append(loss)\n",
    "    if i % print_every == 0:\n",
    "        print('Epoch {}/{}: loss {}'.format(i, EPOCHS, losses[-1]))       "
   ]
  },
  {
   "cell_type": "code",
   "execution_count": 37,
   "metadata": {},
   "outputs": [
    {
     "data": {
      "image/png": "[encoded data removed]",
      "text/plain": [
       "<Figure size 432x288 with 1 Axes>"
      ]
     },
     "metadata": {
      "needs_background": "light"
     },
     "output_type": "display_data"
    }
   ],
   "source": [
    "plt.plot(range(len(losses)), losses)\n",
    "plt.xlabel('Epochs')\n",
    "plt.ylabel('Loss')\n",
    "plt.title('Training loss')\n",
    "plt.show()"
   ]
  },
  {
   "cell_type": "code",
   "execution_count": 38,
   "metadata": {},
   "outputs": [],
   "source": [
    "# Building the test data\n",
    "dataset_total = training_data\n",
    "inputs = dataset_total[len(dataset_total)- len(test_set)-14:]\n",
    "inputs= np.reshape(inputs, (inputs.shape[0], inputs.shape[1]))\n",
    "inputs = sc.transform(inputs)\n",
    "x_test = []\n",
    "for i in range(14, 30):\n",
    "    x_test.append(inputs[i-14:i, 0:1])\n",
    "x_test = np.array(x_test)\n",
    "x_test = np.reshape(x_test, (x_test.shape[0],x_test.shape[1],x_test.shape[2]))"
   ]
  },
  {
   "cell_type": "code",
   "execution_count": 39,
   "metadata": {},
   "outputs": [],
   "source": [
    "x_test = x_test.astype('float32')"
   ]
  },
  {
   "cell_type": "code",
   "execution_count": 40,
   "metadata": {},
   "outputs": [],
   "source": [
    "#borrowed from https://www.katnoria.com/mdn/\n",
    "# Creating a sample of a number of points from the distribution and\n",
    "#generate a dense set of predictions instead of picking just one.\n",
    "def sample_predictions(pi_vals, mu_vals, var_vals, samples=1):\n",
    "    n, k = pi_vals.shape\n",
    "    # print('shape: ', n, k, l)\n",
    "    # place holder to store the y value for each sample of each row\n",
    "    out = np.zeros((n, samples, l))\n",
    "    for i in range(n):\n",
    "        for j in range(samples):\n",
    "            # for each sample, use pi/probs to sample the index\n",
    "            # that will be used to pick up the mu and var values\n",
    "            idx = np.random.choice(range(k), p=pi_vals[i])\n",
    "            for li in range(l):\n",
    "                # Draw random sample from gaussian distribution\n",
    "                out[i,j,li] = np.random.normal(mu_vals[i, idx*(li+l)], np.sqrt(var_vals[i, idx]))\n",
    "    return out    "
   ]
  },
  {
   "cell_type": "code",
   "execution_count": 41,
   "metadata": {},
   "outputs": [],
   "source": [
    "# Get predictions\n",
    "pi_vals, mu_vals, var_vals = model.predict(x_test)\n"
   ]
  },
  {
   "cell_type": "code",
   "execution_count": 42,
   "metadata": {},
   "outputs": [],
   "source": [
    "sampled_predictions = sample_predictions(pi_vals, mu_vals, var_vals, 1)"
   ]
  },
  {
   "cell_type": "code",
   "execution_count": 43,
   "metadata": {},
   "outputs": [
    {
     "data": {
      "text/plain": [
       "(16, 1, 1)"
      ]
     },
     "execution_count": 43,
     "metadata": {},
     "output_type": "execute_result"
    }
   ],
   "source": [
    "sampled_predictions.shape"
   ]
  },
  {
   "cell_type": "code",
   "execution_count": 44,
   "metadata": {},
   "outputs": [
    {
     "name": "stdout",
     "output_type": "stream",
     "text": [
      "(16, 1)\n"
     ]
    }
   ],
   "source": [
    "predicted_set = sampled_predictions.reshape(sampled_predictions.shape[0], sampled_predictions.shape[2])\n",
    "predicted_set = sc.inverse_transform(predicted_set)\n",
    "print(predicted_set.shape)"
   ]
  },
  {
   "cell_type": "code",
   "execution_count": 45,
   "metadata": {},
   "outputs": [],
   "source": [
    "# Adding seasonality and trend to test set\n",
    "predicted_set_f= []\n",
    "trend_comp_test = np.array(trend_comp_test)\n",
    "seasonal_component_test = np.array(seasonal_component_test)\n",
    "predicted_set_f = np.array([[predicted_set[i][j] + trend_comp_test[i][j] + seasonal_component_test[i][j] \n",
    "                    for j in range (len(predicted_set[0]))] for i in range(len(predicted_set))])"
   ]
  },
  {
   "cell_type": "code",
   "execution_count": 46,
   "metadata": {},
   "outputs": [],
   "source": [
    "test_dataframe = pd.DataFrame(test_set_f)  \n",
    "predict_dataframe = pd.DataFrame((predicted_set_f))\n",
    "#predict_dataframe = predict_dataframe.astype(int)  \n",
    "test_dataframe.to_csv(r'C:\\Users\\mdavahli\\Desktop\\twitter\\TEST.csv')\n",
    "predict_dataframe.to_csv(r'C:\\Users\\mdavahli\\Desktop\\twitter\\PREDICT.csv')"
   ]
  },
  {
   "cell_type": "code",
   "execution_count": null,
   "metadata": {},
   "outputs": [],
   "source": []
  }
 ],
 "metadata": {
  "kernelspec": {
   "display_name": "Python 3",
   "language": "python",
   "name": "python3"
  },
  "language_info": {
   "codemirror_mode": {
    "name": "ipython",
    "version": 3
   },
   "file_extension": ".py",
   "mimetype": "text/x-python",
   "name": "python",
   "nbconvert_exporter": "python",
   "pygments_lexer": "ipython3",
   "version": "3.7.1"
  }
 },
 "nbformat": 4,
 "nbformat_minor": 2
}
